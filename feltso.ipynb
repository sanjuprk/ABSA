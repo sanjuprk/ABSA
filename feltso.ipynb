{
 "cells": [
  {
   "cell_type": "code",
   "execution_count": 1,
   "metadata": {
    "collapsed": false
   },
   "outputs": [
    {
     "name": "stderr",
     "output_type": "stream",
     "text": [
      "/home/sanju/anaconda2/lib/python2.7/site-packages/matplotlib/__init__.py:913: UserWarning: axes.color_cycle is deprecated and replaced with axes.prop_cycle; please use the latter.\n",
      "  warnings.warn(self.msg_depr % (key, alt_key))\n"
     ]
    }
   ],
   "source": [
    "import pandas as pd\n",
    "import matplotlib.pyplot as plt\n",
    "%matplotlib inline\n",
    "import seaborn as sns\n",
    "import numpy as np\n",
    "import scipy.stats as st\n",
    "from matplotlib import rcParams\n",
    "\n",
    "#these colors come from colorbrewer2.org. Each is an RGB triplet\n",
    "dark2_colors = [(0.10588235294117647, 0.6196078431372549, 0.4666666666666667),\n",
    "                (0.8509803921568627, 0.37254901960784315, 0.00784313725490196),\n",
    "                (0.4588235294117647, 0.4392156862745098, 0.7019607843137254),\n",
    "                (0.9058823529411765, 0.1607843137254902, 0.5411764705882353),\n",
    "                (0.4, 0.6509803921568628, 0.11764705882352941),\n",
    "                (0.9019607843137255, 0.6705882352941176, 0.00784313725490196),\n",
    "                (0.6509803921568628, 0.4627450980392157, 0.11372549019607843),\n",
    "                (0.4, 0.4, 0.4)]\n",
    "\n",
    "rcParams['figure.figsize'] = (10, 6)\n",
    "rcParams['figure.dpi'] = 150\n",
    "rcParams['axes.color_cycle'] = dark2_colors\n",
    "rcParams['lines.linewidth'] = 2\n",
    "rcParams['axes.grid'] = True\n",
    "rcParams['axes.facecolor'] = '#eeeeee'\n",
    "rcParams['font.size'] = 14\n",
    "rcParams['patch.edgecolor'] = 'none'"
   ]
  },
  {
   "cell_type": "code",
   "execution_count": 2,
   "metadata": {
    "collapsed": false
   },
   "outputs": [
    {
     "data": {
      "text/html": [
       "<div>\n",
       "<table border=\"1\" class=\"dataframe\">\n",
       "  <thead>\n",
       "    <tr style=\"text-align: right;\">\n",
       "      <th></th>\n",
       "      <th>0</th>\n",
       "      <th>1</th>\n",
       "    </tr>\n",
       "  </thead>\n",
       "  <tbody>\n",
       "    <tr>\n",
       "      <th>0</th>\n",
       "      <td>Judging</td>\n",
       "      <td>NASP</td>\n",
       "    </tr>\n",
       "    <tr>\n",
       "      <th>1</th>\n",
       "      <td>from</td>\n",
       "      <td>NASP</td>\n",
       "    </tr>\n",
       "    <tr>\n",
       "      <th>2</th>\n",
       "      <td>previous</td>\n",
       "      <td>NASP</td>\n",
       "    </tr>\n",
       "    <tr>\n",
       "      <th>3</th>\n",
       "      <td>posts</td>\n",
       "      <td>NASP</td>\n",
       "    </tr>\n",
       "    <tr>\n",
       "      <th>4</th>\n",
       "      <td>this</td>\n",
       "      <td>NASP</td>\n",
       "    </tr>\n",
       "  </tbody>\n",
       "</table>\n",
       "</div>"
      ],
      "text/plain": [
       "          0     1\n",
       "0   Judging  NASP\n",
       "1      from  NASP\n",
       "2  previous  NASP\n",
       "3     posts  NASP\n",
       "4      this  NASP"
      ]
     },
     "execution_count": 2,
     "metadata": {},
     "output_type": "execute_result"
    }
   ],
   "source": [
    "#importing data\n",
    "data = pd.read_table('/home/sanju/Downloads/Aspect_Classification/aspect_annoated_file.txt',header = None)\n",
    "data.head()"
   ]
  },
  {
   "cell_type": "code",
   "execution_count": 3,
   "metadata": {
    "collapsed": false
   },
   "outputs": [
    {
     "data": {
      "text/html": [
       "<div>\n",
       "<table border=\"1\" class=\"dataframe\">\n",
       "  <thead>\n",
       "    <tr style=\"text-align: right;\">\n",
       "      <th></th>\n",
       "      <th>Word</th>\n",
       "      <th>Aspect</th>\n",
       "    </tr>\n",
       "  </thead>\n",
       "  <tbody>\n",
       "    <tr>\n",
       "      <th>0</th>\n",
       "      <td>Judging</td>\n",
       "      <td>0</td>\n",
       "    </tr>\n",
       "    <tr>\n",
       "      <th>1</th>\n",
       "      <td>from</td>\n",
       "      <td>0</td>\n",
       "    </tr>\n",
       "    <tr>\n",
       "      <th>2</th>\n",
       "      <td>previous</td>\n",
       "      <td>0</td>\n",
       "    </tr>\n",
       "    <tr>\n",
       "      <th>3</th>\n",
       "      <td>posts</td>\n",
       "      <td>0</td>\n",
       "    </tr>\n",
       "    <tr>\n",
       "      <th>4</th>\n",
       "      <td>this</td>\n",
       "      <td>0</td>\n",
       "    </tr>\n",
       "  </tbody>\n",
       "</table>\n",
       "</div>"
      ],
      "text/plain": [
       "       Word Aspect\n",
       "0   Judging      0\n",
       "1      from      0\n",
       "2  previous      0\n",
       "3     posts      0\n",
       "4      this      0"
      ]
     },
     "execution_count": 3,
     "metadata": {},
     "output_type": "execute_result"
    }
   ],
   "source": [
    "#renaming columns\n",
    "data.columns = ['Word','Aspect']\n",
    "data.loc[data.Aspect == 'NASP','Aspect'] = 0\n",
    "data.loc[data.Aspect == 'ASP','Aspect'] = 1\n",
    "data.head()"
   ]
  },
  {
   "cell_type": "code",
   "execution_count": 4,
   "metadata": {
    "collapsed": false
   },
   "outputs": [
    {
     "data": {
      "text/plain": [
       "Word      object\n",
       "Aspect     int64\n",
       "dtype: object"
      ]
     },
     "execution_count": 4,
     "metadata": {},
     "output_type": "execute_result"
    }
   ],
   "source": [
    "#converting data type of Aspect to int so that can be used as feature ir target later\n",
    "data.Aspect = data.Aspect.apply(pd.to_numeric, errors='ignore')\n",
    "data.dtypes"
   ]
  },
  {
   "cell_type": "code",
   "execution_count": 5,
   "metadata": {
    "collapsed": false
   },
   "outputs": [],
   "source": [
    "# importing stopwords\n",
    "from nltk.corpus import stopwords\n",
    "stoplist = stopwords.words('english')\n",
    "stopset = set(stoplist)"
   ]
  },
  {
   "cell_type": "code",
   "execution_count": 6,
   "metadata": {
    "collapsed": false
   },
   "outputs": [],
   "source": [
    "stop = []\n",
    "for i in range(0,len(data.Word)):\n",
    "    if data.Word[i] in stopset:\n",
    "        stop.append(True)\n",
    "    else:\n",
    "        stop.append(False)\n",
    "# adding a new column to dataset which tells if a word belongs to list of stopwords or not\n",
    "data['StopWords'] = pd.Series(stop)"
   ]
  },
  {
   "cell_type": "code",
   "execution_count": 7,
   "metadata": {
    "collapsed": false
   },
   "outputs": [
    {
     "data": {
      "text/html": [
       "<div>\n",
       "<table border=\"1\" class=\"dataframe\">\n",
       "  <thead>\n",
       "    <tr style=\"text-align: right;\">\n",
       "      <th></th>\n",
       "      <th>Word</th>\n",
       "      <th>Aspect</th>\n",
       "      <th>StopWords</th>\n",
       "    </tr>\n",
       "  </thead>\n",
       "  <tbody>\n",
       "    <tr>\n",
       "      <th>0</th>\n",
       "      <td>Judging</td>\n",
       "      <td>0</td>\n",
       "      <td>False</td>\n",
       "    </tr>\n",
       "    <tr>\n",
       "      <th>1</th>\n",
       "      <td>from</td>\n",
       "      <td>0</td>\n",
       "      <td>True</td>\n",
       "    </tr>\n",
       "    <tr>\n",
       "      <th>2</th>\n",
       "      <td>previous</td>\n",
       "      <td>0</td>\n",
       "      <td>False</td>\n",
       "    </tr>\n",
       "    <tr>\n",
       "      <th>3</th>\n",
       "      <td>posts</td>\n",
       "      <td>0</td>\n",
       "      <td>False</td>\n",
       "    </tr>\n",
       "    <tr>\n",
       "      <th>4</th>\n",
       "      <td>this</td>\n",
       "      <td>0</td>\n",
       "      <td>True</td>\n",
       "    </tr>\n",
       "  </tbody>\n",
       "</table>\n",
       "</div>"
      ],
      "text/plain": [
       "       Word  Aspect StopWords\n",
       "0   Judging       0     False\n",
       "1      from       0      True\n",
       "2  previous       0     False\n",
       "3     posts       0     False\n",
       "4      this       0      True"
      ]
     },
     "execution_count": 7,
     "metadata": {},
     "output_type": "execute_result"
    }
   ],
   "source": [
    "data.head()"
   ]
  },
  {
   "cell_type": "code",
   "execution_count": 8,
   "metadata": {
    "collapsed": false
   },
   "outputs": [
    {
     "data": {
      "text/plain": [
       "(13845, 3)"
      ]
     },
     "execution_count": 8,
     "metadata": {},
     "output_type": "execute_result"
    }
   ],
   "source": [
    "data.shape"
   ]
  },
  {
   "cell_type": "code",
   "execution_count": 9,
   "metadata": {
    "collapsed": false
   },
   "outputs": [
    {
     "name": "stdout",
     "output_type": "stream",
     "text": [
      "[('Judging', 'VBG'), ('from', 'IN'), ('previous', 'JJ'), ('posts', 'NNS'), ('this', 'DT')]\n",
      "['VBG', 'IN', 'JJ', 'NNS', 'DT']\n"
     ]
    }
   ],
   "source": [
    "# tagging the appropriate parts of speech\n",
    "import nltk\n",
    "from nltk import pos_tag\n",
    "pos_pist = pos_tag(data.Word)\n",
    "print pos_pist[:5]\n",
    "pos_list = []\n",
    "for i in range(0,len(pos_pist)):\n",
    "    pos_list.append(pos_pist[i][1])\n",
    "print pos_list[:5]"
   ]
  },
  {
   "cell_type": "code",
   "execution_count": 10,
   "metadata": {
    "collapsed": false
   },
   "outputs": [],
   "source": [
    "# appending POS as a column\n",
    "data['POS'] = pd.Series(pos_list)"
   ]
  },
  {
   "cell_type": "code",
   "execution_count": 11,
   "metadata": {
    "collapsed": false
   },
   "outputs": [
    {
     "data": {
      "text/html": [
       "<div>\n",
       "<table border=\"1\" class=\"dataframe\">\n",
       "  <thead>\n",
       "    <tr style=\"text-align: right;\">\n",
       "      <th></th>\n",
       "      <th>Word</th>\n",
       "      <th>Aspect</th>\n",
       "      <th>StopWords</th>\n",
       "      <th>POS</th>\n",
       "    </tr>\n",
       "  </thead>\n",
       "  <tbody>\n",
       "    <tr>\n",
       "      <th>0</th>\n",
       "      <td>Judging</td>\n",
       "      <td>0</td>\n",
       "      <td>False</td>\n",
       "      <td>VBG</td>\n",
       "    </tr>\n",
       "    <tr>\n",
       "      <th>1</th>\n",
       "      <td>from</td>\n",
       "      <td>0</td>\n",
       "      <td>True</td>\n",
       "      <td>IN</td>\n",
       "    </tr>\n",
       "    <tr>\n",
       "      <th>2</th>\n",
       "      <td>previous</td>\n",
       "      <td>0</td>\n",
       "      <td>False</td>\n",
       "      <td>JJ</td>\n",
       "    </tr>\n",
       "    <tr>\n",
       "      <th>3</th>\n",
       "      <td>posts</td>\n",
       "      <td>0</td>\n",
       "      <td>False</td>\n",
       "      <td>NNS</td>\n",
       "    </tr>\n",
       "    <tr>\n",
       "      <th>4</th>\n",
       "      <td>this</td>\n",
       "      <td>0</td>\n",
       "      <td>True</td>\n",
       "      <td>DT</td>\n",
       "    </tr>\n",
       "    <tr>\n",
       "      <th>5</th>\n",
       "      <td>used</td>\n",
       "      <td>0</td>\n",
       "      <td>False</td>\n",
       "      <td>VBN</td>\n",
       "    </tr>\n",
       "    <tr>\n",
       "      <th>6</th>\n",
       "      <td>to</td>\n",
       "      <td>0</td>\n",
       "      <td>True</td>\n",
       "      <td>TO</td>\n",
       "    </tr>\n",
       "    <tr>\n",
       "      <th>7</th>\n",
       "      <td>be</td>\n",
       "      <td>0</td>\n",
       "      <td>True</td>\n",
       "      <td>VB</td>\n",
       "    </tr>\n",
       "    <tr>\n",
       "      <th>8</th>\n",
       "      <td>a</td>\n",
       "      <td>0</td>\n",
       "      <td>True</td>\n",
       "      <td>DT</td>\n",
       "    </tr>\n",
       "    <tr>\n",
       "      <th>9</th>\n",
       "      <td>good</td>\n",
       "      <td>0</td>\n",
       "      <td>False</td>\n",
       "      <td>JJ</td>\n",
       "    </tr>\n",
       "  </tbody>\n",
       "</table>\n",
       "</div>"
      ],
      "text/plain": [
       "       Word  Aspect StopWords  POS\n",
       "0   Judging       0     False  VBG\n",
       "1      from       0      True   IN\n",
       "2  previous       0     False   JJ\n",
       "3     posts       0     False  NNS\n",
       "4      this       0      True   DT\n",
       "5      used       0     False  VBN\n",
       "6        to       0      True   TO\n",
       "7        be       0      True   VB\n",
       "8         a       0      True   DT\n",
       "9      good       0     False   JJ"
      ]
     },
     "execution_count": 11,
     "metadata": {},
     "output_type": "execute_result"
    }
   ],
   "source": [
    "data.head(10)"
   ]
  },
  {
   "cell_type": "code",
   "execution_count": 15,
   "metadata": {
    "collapsed": false
   },
   "outputs": [
    {
     "name": "stdout",
     "output_type": "stream",
     "text": [
      "[0, 0, 0, 0, 0]\n"
     ]
    }
   ],
   "source": [
    "# named entity tagging for each word, very useful as a feature for classification later.\n",
    "from nltk import ne_chunk\n",
    "ner_pist = ne_chunk(pos_pist)\n",
    "ner_list = []\n",
    "for i in range(0,len(ner_pist)):\n",
    "    if isinstance(ner_pist[i],nltk.Tree):\n",
    "        ner_list.append(ner_pist[i].label())\n",
    "    else:\n",
    "        ner_list.append(0)\n",
    "print ner_list[:5]"
   ]
  },
  {
   "cell_type": "code",
   "execution_count": 16,
   "metadata": {
    "collapsed": true
   },
   "outputs": [],
   "source": [
    "# appending NER as a column\n",
    "data['NER'] = pd.Series(ner_list)"
   ]
  },
  {
   "cell_type": "code",
   "execution_count": 17,
   "metadata": {
    "collapsed": false
   },
   "outputs": [
    {
     "data": {
      "text/html": [
       "<div>\n",
       "<table border=\"1\" class=\"dataframe\">\n",
       "  <thead>\n",
       "    <tr style=\"text-align: right;\">\n",
       "      <th></th>\n",
       "      <th></th>\n",
       "      <th>NER</th>\n",
       "      <th>POS</th>\n",
       "      <th>StopWords</th>\n",
       "      <th>Word</th>\n",
       "    </tr>\n",
       "    <tr>\n",
       "      <th>Aspect</th>\n",
       "      <th></th>\n",
       "      <th></th>\n",
       "      <th></th>\n",
       "      <th></th>\n",
       "      <th></th>\n",
       "    </tr>\n",
       "  </thead>\n",
       "  <tbody>\n",
       "    <tr>\n",
       "      <th rowspan=\"4\" valign=\"top\">0</th>\n",
       "      <th>count</th>\n",
       "      <td>12394</td>\n",
       "      <td>12477</td>\n",
       "      <td>12477</td>\n",
       "      <td>12477</td>\n",
       "    </tr>\n",
       "    <tr>\n",
       "      <th>unique</th>\n",
       "      <td>6</td>\n",
       "      <td>38</td>\n",
       "      <td>2</td>\n",
       "      <td>2328</td>\n",
       "    </tr>\n",
       "    <tr>\n",
       "      <th>top</th>\n",
       "      <td>0</td>\n",
       "      <td>DT</td>\n",
       "      <td>False</td>\n",
       "      <td>.</td>\n",
       "    </tr>\n",
       "    <tr>\n",
       "      <th>freq</th>\n",
       "      <td>12071</td>\n",
       "      <td>1339</td>\n",
       "      <td>7501</td>\n",
       "      <td>998</td>\n",
       "    </tr>\n",
       "    <tr>\n",
       "      <th rowspan=\"4\" valign=\"top\">1</th>\n",
       "      <th>count</th>\n",
       "      <td>1356</td>\n",
       "      <td>1368</td>\n",
       "      <td>1368</td>\n",
       "      <td>1368</td>\n",
       "    </tr>\n",
       "    <tr>\n",
       "      <th>unique</th>\n",
       "      <td>4</td>\n",
       "      <td>15</td>\n",
       "      <td>1</td>\n",
       "      <td>232</td>\n",
       "    </tr>\n",
       "    <tr>\n",
       "      <th>top</th>\n",
       "      <td>0</td>\n",
       "      <td>NN</td>\n",
       "      <td>False</td>\n",
       "      <td>food</td>\n",
       "    </tr>\n",
       "    <tr>\n",
       "      <th>freq</th>\n",
       "      <td>1319</td>\n",
       "      <td>1159</td>\n",
       "      <td>1368</td>\n",
       "      <td>129</td>\n",
       "    </tr>\n",
       "  </tbody>\n",
       "</table>\n",
       "</div>"
      ],
      "text/plain": [
       "                 NER    POS StopWords   Word\n",
       "Aspect                                      \n",
       "0      count   12394  12477     12477  12477\n",
       "       unique      6     38         2   2328\n",
       "       top         0     DT     False      .\n",
       "       freq    12071   1339      7501    998\n",
       "1      count    1356   1368      1368   1368\n",
       "       unique      4     15         1    232\n",
       "       top         0     NN     False   food\n",
       "       freq     1319   1159      1368    129"
      ]
     },
     "execution_count": 17,
     "metadata": {},
     "output_type": "execute_result"
    }
   ],
   "source": [
    "# peek at how aspects relate to the present features/columns\n",
    "data.groupby('Aspect').describe()"
   ]
  },
  {
   "cell_type": "code",
   "execution_count": 19,
   "metadata": {
    "collapsed": false
   },
   "outputs": [
    {
     "data": {
      "text/plain": [
       "NN    1985\n",
       "DT    1339\n",
       "JJ    1334\n",
       ".     1125\n",
       "IN    1096\n",
       "Name: POS, dtype: int64"
      ]
     },
     "execution_count": 19,
     "metadata": {},
     "output_type": "execute_result"
    }
   ],
   "source": [
    "# counts of top pos_tags\n",
    "data.POS.value_counts().head()"
   ]
  },
  {
   "cell_type": "code",
   "execution_count": 20,
   "metadata": {
    "collapsed": true
   },
   "outputs": [],
   "source": [
    "# some rare pos_tags will add noise to model better to remove them\n",
    "unwanted_pos = ['CD','JJS','WDT',':','RP',')','WRB','JJR','(','WP','EX','PDT','RBR','RBS','UH','FW','NNPS','/''']"
   ]
  },
  {
   "cell_type": "code",
   "execution_count": 22,
   "metadata": {
    "collapsed": false
   },
   "outputs": [],
   "source": [
    "useful = []\n",
    "for i in range(len(data)):\n",
    "    useful.append(data.POS[i] not in unwanted_pos)\n",
    "data['useful'] = pd.Series(useful)\n",
    "new_data = pd.DataFrame(data[data.useful == True])"
   ]
  },
  {
   "cell_type": "code",
   "execution_count": 23,
   "metadata": {
    "collapsed": false
   },
   "outputs": [
    {
     "name": "stdout",
     "output_type": "stream",
     "text": [
      "(13312, 6)\n",
      "(13845, 6)\n"
     ]
    }
   ],
   "source": [
    "print new_data.shape\n",
    "print data.shape"
   ]
  },
  {
   "cell_type": "code",
   "execution_count": 35,
   "metadata": {
    "collapsed": false
   },
   "outputs": [
    {
     "data": {
      "text/html": [
       "<div>\n",
       "<table border=\"1\" class=\"dataframe\">\n",
       "  <thead>\n",
       "    <tr style=\"text-align: right;\">\n",
       "      <th></th>\n",
       "      <th>Word</th>\n",
       "      <th>Aspect</th>\n",
       "      <th>StopWords</th>\n",
       "      <th>POS</th>\n",
       "      <th>NER</th>\n",
       "      <th>useful</th>\n",
       "      <th>''</th>\n",
       "      <th>,</th>\n",
       "      <th>.</th>\n",
       "      <th>CC</th>\n",
       "      <th>...</th>\n",
       "      <th>PRP</th>\n",
       "      <th>PRP$</th>\n",
       "      <th>RB</th>\n",
       "      <th>TO</th>\n",
       "      <th>VB</th>\n",
       "      <th>VBD</th>\n",
       "      <th>VBG</th>\n",
       "      <th>VBN</th>\n",
       "      <th>VBP</th>\n",
       "      <th>VBZ</th>\n",
       "    </tr>\n",
       "  </thead>\n",
       "  <tbody>\n",
       "    <tr>\n",
       "      <th>0</th>\n",
       "      <td>Judging</td>\n",
       "      <td>0</td>\n",
       "      <td>False</td>\n",
       "      <td>VBG</td>\n",
       "      <td>0</td>\n",
       "      <td>True</td>\n",
       "      <td>0</td>\n",
       "      <td>0</td>\n",
       "      <td>0</td>\n",
       "      <td>0</td>\n",
       "      <td>...</td>\n",
       "      <td>0</td>\n",
       "      <td>0</td>\n",
       "      <td>0</td>\n",
       "      <td>0</td>\n",
       "      <td>0</td>\n",
       "      <td>0</td>\n",
       "      <td>1</td>\n",
       "      <td>0</td>\n",
       "      <td>0</td>\n",
       "      <td>0</td>\n",
       "    </tr>\n",
       "    <tr>\n",
       "      <th>1</th>\n",
       "      <td>from</td>\n",
       "      <td>0</td>\n",
       "      <td>True</td>\n",
       "      <td>IN</td>\n",
       "      <td>0</td>\n",
       "      <td>True</td>\n",
       "      <td>0</td>\n",
       "      <td>0</td>\n",
       "      <td>0</td>\n",
       "      <td>0</td>\n",
       "      <td>...</td>\n",
       "      <td>0</td>\n",
       "      <td>0</td>\n",
       "      <td>0</td>\n",
       "      <td>0</td>\n",
       "      <td>0</td>\n",
       "      <td>0</td>\n",
       "      <td>0</td>\n",
       "      <td>0</td>\n",
       "      <td>0</td>\n",
       "      <td>0</td>\n",
       "    </tr>\n",
       "    <tr>\n",
       "      <th>2</th>\n",
       "      <td>previous</td>\n",
       "      <td>0</td>\n",
       "      <td>False</td>\n",
       "      <td>JJ</td>\n",
       "      <td>0</td>\n",
       "      <td>True</td>\n",
       "      <td>0</td>\n",
       "      <td>0</td>\n",
       "      <td>0</td>\n",
       "      <td>0</td>\n",
       "      <td>...</td>\n",
       "      <td>0</td>\n",
       "      <td>0</td>\n",
       "      <td>0</td>\n",
       "      <td>0</td>\n",
       "      <td>0</td>\n",
       "      <td>0</td>\n",
       "      <td>0</td>\n",
       "      <td>0</td>\n",
       "      <td>0</td>\n",
       "      <td>0</td>\n",
       "    </tr>\n",
       "    <tr>\n",
       "      <th>3</th>\n",
       "      <td>posts</td>\n",
       "      <td>0</td>\n",
       "      <td>False</td>\n",
       "      <td>NNS</td>\n",
       "      <td>0</td>\n",
       "      <td>True</td>\n",
       "      <td>0</td>\n",
       "      <td>0</td>\n",
       "      <td>0</td>\n",
       "      <td>0</td>\n",
       "      <td>...</td>\n",
       "      <td>0</td>\n",
       "      <td>0</td>\n",
       "      <td>0</td>\n",
       "      <td>0</td>\n",
       "      <td>0</td>\n",
       "      <td>0</td>\n",
       "      <td>0</td>\n",
       "      <td>0</td>\n",
       "      <td>0</td>\n",
       "      <td>0</td>\n",
       "    </tr>\n",
       "    <tr>\n",
       "      <th>4</th>\n",
       "      <td>this</td>\n",
       "      <td>0</td>\n",
       "      <td>True</td>\n",
       "      <td>DT</td>\n",
       "      <td>0</td>\n",
       "      <td>True</td>\n",
       "      <td>0</td>\n",
       "      <td>0</td>\n",
       "      <td>0</td>\n",
       "      <td>0</td>\n",
       "      <td>...</td>\n",
       "      <td>0</td>\n",
       "      <td>0</td>\n",
       "      <td>0</td>\n",
       "      <td>0</td>\n",
       "      <td>0</td>\n",
       "      <td>0</td>\n",
       "      <td>0</td>\n",
       "      <td>0</td>\n",
       "      <td>0</td>\n",
       "      <td>0</td>\n",
       "    </tr>\n",
       "  </tbody>\n",
       "</table>\n",
       "<p>5 rows × 48 columns</p>\n",
       "</div>"
      ],
      "text/plain": [
       "       Word  Aspect StopWords  POS NER useful  ''  ,  .  CC ...   PRP  PRP$  \\\n",
       "0   Judging       0     False  VBG   0   True   0  0  0   0 ...     0     0   \n",
       "1      from       0      True   IN   0   True   0  0  0   0 ...     0     0   \n",
       "2  previous       0     False   JJ   0   True   0  0  0   0 ...     0     0   \n",
       "3     posts       0     False  NNS   0   True   0  0  0   0 ...     0     0   \n",
       "4      this       0      True   DT   0   True   0  0  0   0 ...     0     0   \n",
       "\n",
       "   RB  TO  VB  VBD  VBG  VBN  VBP  VBZ  \n",
       "0   0   0   0    0    1    0    0    0  \n",
       "1   0   0   0    0    0    0    0    0  \n",
       "2   0   0   0    0    0    0    0    0  \n",
       "3   0   0   0    0    0    0    0    0  \n",
       "4   0   0   0    0    0    0    0    0  \n",
       "\n",
       "[5 rows x 48 columns]"
      ]
     },
     "execution_count": 35,
     "metadata": {},
     "output_type": "execute_result"
    }
   ],
   "source": [
    "# getting dummy variables for POS\n",
    "dummies = pd.get_dummies(new_data.POS)\n",
    "new_data = pd.concat([new_data, dummies], axis=1)\n",
    "new_data.head()"
   ]
  },
  {
   "cell_type": "code",
   "execution_count": 36,
   "metadata": {
    "collapsed": false
   },
   "outputs": [
    {
     "data": {
      "text/plain": [
       "0               12874\n",
       "PERSON            151\n",
       "GPE               115\n",
       "ORGANIZATION       81\n",
       "FACILITY            2\n",
       "LOCATION            1\n",
       "Name: NER, dtype: int64"
      ]
     },
     "execution_count": 36,
     "metadata": {},
     "output_type": "execute_result"
    }
   ],
   "source": [
    "new_data.NER.value_counts()"
   ]
  },
  {
   "cell_type": "code",
   "execution_count": 40,
   "metadata": {
    "collapsed": false
   },
   "outputs": [
    {
     "data": {
      "text/html": [
       "<div>\n",
       "<table border=\"1\" class=\"dataframe\">\n",
       "  <thead>\n",
       "    <tr style=\"text-align: right;\">\n",
       "      <th></th>\n",
       "      <th>Word</th>\n",
       "      <th>Aspect</th>\n",
       "      <th>StopWords</th>\n",
       "      <th>POS</th>\n",
       "      <th>NER</th>\n",
       "      <th>useful</th>\n",
       "      <th>''</th>\n",
       "      <th>,</th>\n",
       "      <th>.</th>\n",
       "      <th>CC</th>\n",
       "      <th>...</th>\n",
       "      <th>GPE</th>\n",
       "      <th>LOCATION</th>\n",
       "      <th>ORGANIZATION</th>\n",
       "      <th>PERSON</th>\n",
       "      <th>0</th>\n",
       "      <th>FACILITY</th>\n",
       "      <th>GPE</th>\n",
       "      <th>LOCATION</th>\n",
       "      <th>ORGANIZATION</th>\n",
       "      <th>PERSON</th>\n",
       "    </tr>\n",
       "  </thead>\n",
       "  <tbody>\n",
       "    <tr>\n",
       "      <th>0</th>\n",
       "      <td>Judging</td>\n",
       "      <td>0</td>\n",
       "      <td>False</td>\n",
       "      <td>VBG</td>\n",
       "      <td>0</td>\n",
       "      <td>True</td>\n",
       "      <td>0</td>\n",
       "      <td>0</td>\n",
       "      <td>0</td>\n",
       "      <td>0</td>\n",
       "      <td>...</td>\n",
       "      <td>0</td>\n",
       "      <td>0</td>\n",
       "      <td>0</td>\n",
       "      <td>0</td>\n",
       "      <td>1</td>\n",
       "      <td>0</td>\n",
       "      <td>0</td>\n",
       "      <td>0</td>\n",
       "      <td>0</td>\n",
       "      <td>0</td>\n",
       "    </tr>\n",
       "    <tr>\n",
       "      <th>1</th>\n",
       "      <td>from</td>\n",
       "      <td>0</td>\n",
       "      <td>True</td>\n",
       "      <td>IN</td>\n",
       "      <td>0</td>\n",
       "      <td>True</td>\n",
       "      <td>0</td>\n",
       "      <td>0</td>\n",
       "      <td>0</td>\n",
       "      <td>0</td>\n",
       "      <td>...</td>\n",
       "      <td>0</td>\n",
       "      <td>0</td>\n",
       "      <td>0</td>\n",
       "      <td>0</td>\n",
       "      <td>1</td>\n",
       "      <td>0</td>\n",
       "      <td>0</td>\n",
       "      <td>0</td>\n",
       "      <td>0</td>\n",
       "      <td>0</td>\n",
       "    </tr>\n",
       "    <tr>\n",
       "      <th>2</th>\n",
       "      <td>previous</td>\n",
       "      <td>0</td>\n",
       "      <td>False</td>\n",
       "      <td>JJ</td>\n",
       "      <td>0</td>\n",
       "      <td>True</td>\n",
       "      <td>0</td>\n",
       "      <td>0</td>\n",
       "      <td>0</td>\n",
       "      <td>0</td>\n",
       "      <td>...</td>\n",
       "      <td>0</td>\n",
       "      <td>0</td>\n",
       "      <td>0</td>\n",
       "      <td>0</td>\n",
       "      <td>1</td>\n",
       "      <td>0</td>\n",
       "      <td>0</td>\n",
       "      <td>0</td>\n",
       "      <td>0</td>\n",
       "      <td>0</td>\n",
       "    </tr>\n",
       "    <tr>\n",
       "      <th>3</th>\n",
       "      <td>posts</td>\n",
       "      <td>0</td>\n",
       "      <td>False</td>\n",
       "      <td>NNS</td>\n",
       "      <td>0</td>\n",
       "      <td>True</td>\n",
       "      <td>0</td>\n",
       "      <td>0</td>\n",
       "      <td>0</td>\n",
       "      <td>0</td>\n",
       "      <td>...</td>\n",
       "      <td>0</td>\n",
       "      <td>0</td>\n",
       "      <td>0</td>\n",
       "      <td>0</td>\n",
       "      <td>1</td>\n",
       "      <td>0</td>\n",
       "      <td>0</td>\n",
       "      <td>0</td>\n",
       "      <td>0</td>\n",
       "      <td>0</td>\n",
       "    </tr>\n",
       "    <tr>\n",
       "      <th>4</th>\n",
       "      <td>this</td>\n",
       "      <td>0</td>\n",
       "      <td>True</td>\n",
       "      <td>DT</td>\n",
       "      <td>0</td>\n",
       "      <td>True</td>\n",
       "      <td>0</td>\n",
       "      <td>0</td>\n",
       "      <td>0</td>\n",
       "      <td>0</td>\n",
       "      <td>...</td>\n",
       "      <td>0</td>\n",
       "      <td>0</td>\n",
       "      <td>0</td>\n",
       "      <td>0</td>\n",
       "      <td>1</td>\n",
       "      <td>0</td>\n",
       "      <td>0</td>\n",
       "      <td>0</td>\n",
       "      <td>0</td>\n",
       "      <td>0</td>\n",
       "    </tr>\n",
       "  </tbody>\n",
       "</table>\n",
       "<p>5 rows × 60 columns</p>\n",
       "</div>"
      ],
      "text/plain": [
       "       Word  Aspect StopWords  POS NER useful  ''  ,  .  CC   ...    GPE  \\\n",
       "0   Judging       0     False  VBG   0   True   0  0  0   0   ...      0   \n",
       "1      from       0      True   IN   0   True   0  0  0   0   ...      0   \n",
       "2  previous       0     False   JJ   0   True   0  0  0   0   ...      0   \n",
       "3     posts       0     False  NNS   0   True   0  0  0   0   ...      0   \n",
       "4      this       0      True   DT   0   True   0  0  0   0   ...      0   \n",
       "\n",
       "   LOCATION  ORGANIZATION  PERSON  0  FACILITY  GPE  LOCATION  ORGANIZATION  \\\n",
       "0         0             0       0  1         0    0         0             0   \n",
       "1         0             0       0  1         0    0         0             0   \n",
       "2         0             0       0  1         0    0         0             0   \n",
       "3         0             0       0  1         0    0         0             0   \n",
       "4         0             0       0  1         0    0         0             0   \n",
       "\n",
       "   PERSON  \n",
       "0       0  \n",
       "1       0  \n",
       "2       0  \n",
       "3       0  \n",
       "4       0  \n",
       "\n",
       "[5 rows x 60 columns]"
      ]
     },
     "execution_count": 40,
     "metadata": {},
     "output_type": "execute_result"
    }
   ],
   "source": [
    "# getting dummy variables for NER\n",
    "dummies = pd.get_dummies(new_data.NER)\n",
    "new_data = pd.concat([new_data, dummies], axis=1)\n",
    "new_data.head()"
   ]
  },
  {
   "cell_type": "code",
   "execution_count": 57,
   "metadata": {
    "collapsed": false
   },
   "outputs": [
    {
     "data": {
      "text/plain": [
       "['Word',\n",
       " 'Aspect',\n",
       " 'StopWords',\n",
       " 'POS',\n",
       " 'NER',\n",
       " 'useful',\n",
       " \"''\",\n",
       " ',',\n",
       " '.',\n",
       " 'CC',\n",
       " 'DT',\n",
       " 'IN',\n",
       " 'JJ',\n",
       " 'MD',\n",
       " 'NN',\n",
       " 'NNP',\n",
       " 'NNS',\n",
       " 'PRP',\n",
       " 'PRP$',\n",
       " 'RB',\n",
       " 'TO',\n",
       " 'VB',\n",
       " 'VBD',\n",
       " 'VBG',\n",
       " 'VBN',\n",
       " 'VBP',\n",
       " 'VBZ',\n",
       " \"''\",\n",
       " ',',\n",
       " '.',\n",
       " 'CC',\n",
       " 'DT',\n",
       " 'IN',\n",
       " 'JJ',\n",
       " 'MD',\n",
       " 'NN',\n",
       " 'NNP',\n",
       " 'NNS',\n",
       " 'PRP',\n",
       " 'PRP$',\n",
       " 'RB',\n",
       " 'TO',\n",
       " 'VB',\n",
       " 'VBD',\n",
       " 'VBG',\n",
       " 'VBN',\n",
       " 'VBP',\n",
       " 'VBZ',\n",
       " 0,\n",
       " 'FACILITY',\n",
       " 'GPE',\n",
       " 'LOCATION',\n",
       " 'ORGANIZATION',\n",
       " 'PERSON',\n",
       " 0,\n",
       " 'FACILITY',\n",
       " 'GPE',\n",
       " 'LOCATION',\n",
       " 'ORGANIZATION',\n",
       " 'PERSON']"
      ]
     },
     "execution_count": 57,
     "metadata": {},
     "output_type": "execute_result"
    }
   ],
   "source": [
    "# all the columns i.e features, target \n",
    "list(new_data.columns)"
   ]
  },
  {
   "cell_type": "code",
   "execution_count": 58,
   "metadata": {
    "collapsed": false
   },
   "outputs": [],
   "source": [
    "# X contains the data for features, Y contains for target\n",
    "X = new_data[['StopWords','CC','DT','IN','JJ','MD','NN','NNP','NNS','PRP','PRP$','RB','TO','VB','VBD','VBG','VBN','VBP','VBZ','FACILITY','GPE','LOCATION','ORGANIZATION','PERSON']].values\n",
    "Y = new_data['Aspect']"
   ]
  },
  {
   "cell_type": "code",
   "execution_count": 59,
   "metadata": {
    "collapsed": false
   },
   "outputs": [],
   "source": [
    "# importing classifiers\n",
    "from sklearn.naive_bayes import GaussianNB\n",
    "from sklearn.cross_validation import cross_val_score\n",
    "from sklearn import svm"
   ]
  },
  {
   "cell_type": "code",
   "execution_count": 60,
   "metadata": {
    "collapsed": false
   },
   "outputs": [],
   "source": [
    "# initializing classifiers\n",
    "clf = GaussianNB()\n",
    "svm = svm.SVC(kernel='linear', probability=True)"
   ]
  },
  {
   "cell_type": "code",
   "execution_count": 61,
   "metadata": {
    "collapsed": false
   },
   "outputs": [],
   "source": [
    "# train test split\n",
    "from sklearn.cross_validation import train_test_split\n",
    "X_train,X_test,Y_train,Y_test = train_test_split(X,Y,test_size=0.25)"
   ]
  },
  {
   "cell_type": "code",
   "execution_count": 62,
   "metadata": {
    "collapsed": false
   },
   "outputs": [
    {
     "name": "stdout",
     "output_type": "stream",
     "text": [
      "0.92578125\n"
     ]
    }
   ],
   "source": [
    "# fitting and predicting\n",
    "svm.fit(X_train,Y_train)\n",
    "Y_pred = svm.predict(X_test)\n",
    "from sklearn.metrics import accuracy_score\n",
    "print accuracy_score(Y_pred,Y_test)"
   ]
  },
  {
   "cell_type": "code",
   "execution_count": 63,
   "metadata": {
    "collapsed": false
   },
   "outputs": [
    {
     "name": "stdout",
     "output_type": "stream",
     "text": [
      "0.608774038462\n"
     ]
    }
   ],
   "source": [
    "clf.fit(X_train,Y_train)\n",
    "Y_pred_nb = clf.predict(X_test)\n",
    "from sklearn.metrics import accuracy_score\n",
    "print accuracy_score(Y_pred_nb,Y_test)"
   ]
  },
  {
   "cell_type": "code",
   "execution_count": 64,
   "metadata": {
    "collapsed": false
   },
   "outputs": [
    {
     "name": "stdout",
     "output_type": "stream",
     "text": [
      "             precision    recall  f1-score   support\n",
      "\n",
      " Not Aspect       0.98      0.94      0.96      2996\n",
      "     Aspect       0.59      0.84      0.69       332\n",
      "\n",
      "avg / total       0.94      0.93      0.93      3328\n",
      "\n"
     ]
    }
   ],
   "source": [
    "# precision recall and F1 score.\n",
    "from sklearn.metrics import classification_report\n",
    "print(classification_report(Y_test, \n",
    "                            Y_pred, \n",
    "                            target_names=['Not Aspect', 'Aspect']))"
   ]
  },
  {
   "cell_type": "code",
   "execution_count": 65,
   "metadata": {
    "collapsed": false
   },
   "outputs": [
    {
     "name": "stdout",
     "output_type": "stream",
     "text": [
      "             precision    recall  f1-score   support\n",
      "\n",
      " Not Aspect       1.00      0.57      0.72      2996\n",
      "     Aspect       0.20      0.99      0.34       332\n",
      "\n",
      "avg / total       0.92      0.61      0.68      3328\n",
      "\n"
     ]
    }
   ],
   "source": [
    "from sklearn.metrics import classification_report\n",
    "print(classification_report(Y_test, \n",
    "                            Y_pred_nb, \n",
    "                            target_names=['Not Aspect', 'Aspect']))"
   ]
  }
 ],
 "metadata": {
  "kernelspec": {
   "display_name": "Python 2",
   "language": "python",
   "name": "python2"
  },
  "language_info": {
   "codemirror_mode": {
    "name": "ipython",
    "version": 2
   },
   "file_extension": ".py",
   "mimetype": "text/x-python",
   "name": "python",
   "nbconvert_exporter": "python",
   "pygments_lexer": "ipython2",
   "version": "2.7.13"
  }
 },
 "nbformat": 4,
 "nbformat_minor": 2
}
